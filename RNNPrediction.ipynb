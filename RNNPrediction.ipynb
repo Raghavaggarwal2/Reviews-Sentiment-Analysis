{
 "cells": [
  {
   "cell_type": "code",
   "execution_count": 1,
   "metadata": {
    "executionInfo": {
     "elapsed": 6244,
     "status": "ok",
     "timestamp": 1758086681121,
     "user": {
      "displayName": "Raghav Aggarwal",
      "userId": "02262660397527192276"
     },
     "user_tz": -330
    },
    "id": "4cL1uyvDINNt"
   },
   "outputs": [],
   "source": [
    "import numpy as np\n",
    "import tensorflow as tf\n",
    "from tensorflow.keras.datasets import imdb\n",
    "from tensorflow.keras.preprocessing import sequence\n",
    "from tensorflow.keras.models import Sequential\n",
    "from tensorflow.keras.layers import Embedding, Dense, SimpleRNN\n",
    "from tensorflow.keras.models import load_model"
   ]
  },
  {
   "cell_type": "code",
   "execution_count": 2,
   "metadata": {
    "colab": {
     "base_uri": "https://localhost:8080/"
    },
    "executionInfo": {
     "elapsed": 860,
     "status": "ok",
     "timestamp": 1758086774100,
     "user": {
      "displayName": "Raghav Aggarwal",
      "userId": "02262660397527192276"
     },
     "user_tz": -330
    },
    "id": "jWt0ztf0IZT6",
    "outputId": "6fc19b8c-f688-479a-adac-1678e33c859f"
   },
   "outputs": [],
   "source": [
    "# Load word index\n",
    "word_index = imdb.get_word_index()\n",
    "reverse_word_index = {value: key for key, value in word_index.items()}"
   ]
  },
  {
   "cell_type": "code",
   "execution_count": 3,
   "metadata": {
    "id": "3qyuajKRIzgh"
   },
   "outputs": [
    {
     "name": "stderr",
     "output_type": "stream",
     "text": [
      "WARNING:absl:Compiled the loaded model, but the compiled metrics have yet to be built. `model.compile_metrics` will be empty until you train or evaluate the model.\n"
     ]
    },
    {
     "data": {
      "text/html": [
       "<pre style=\"white-space:pre;overflow-x:auto;line-height:normal;font-family:Menlo,'DejaVu Sans Mono',consolas,'Courier New',monospace\"><span style=\"font-weight: bold\">Model: \"sequential\"</span>\n",
       "</pre>\n"
      ],
      "text/plain": [
       "\u001b[1mModel: \"sequential\"\u001b[0m\n"
      ]
     },
     "metadata": {},
     "output_type": "display_data"
    },
    {
     "data": {
      "text/html": [
       "<pre style=\"white-space:pre;overflow-x:auto;line-height:normal;font-family:Menlo,'DejaVu Sans Mono',consolas,'Courier New',monospace\">┏━━━━━━━━━━━━━━━━━━━━━━━━━━━━━━━━━┳━━━━━━━━━━━━━━━━━━━━━━━━┳━━━━━━━━━━━━━━━┓\n",
       "┃<span style=\"font-weight: bold\"> Layer (type)                    </span>┃<span style=\"font-weight: bold\"> Output Shape           </span>┃<span style=\"font-weight: bold\">       Param # </span>┃\n",
       "┡━━━━━━━━━━━━━━━━━━━━━━━━━━━━━━━━━╇━━━━━━━━━━━━━━━━━━━━━━━━╇━━━━━━━━━━━━━━━┩\n",
       "│ embedding (<span style=\"color: #0087ff; text-decoration-color: #0087ff\">Embedding</span>)           │ (<span style=\"color: #00d7ff; text-decoration-color: #00d7ff\">None</span>, <span style=\"color: #00af00; text-decoration-color: #00af00\">100</span>, <span style=\"color: #00af00; text-decoration-color: #00af00\">128</span>)       │     <span style=\"color: #00af00; text-decoration-color: #00af00\">1,280,000</span> │\n",
       "├─────────────────────────────────┼────────────────────────┼───────────────┤\n",
       "│ simple_rnn (<span style=\"color: #0087ff; text-decoration-color: #0087ff\">SimpleRNN</span>)          │ (<span style=\"color: #00d7ff; text-decoration-color: #00d7ff\">None</span>, <span style=\"color: #00af00; text-decoration-color: #00af00\">128</span>)            │        <span style=\"color: #00af00; text-decoration-color: #00af00\">32,896</span> │\n",
       "├─────────────────────────────────┼────────────────────────┼───────────────┤\n",
       "│ dense (<span style=\"color: #0087ff; text-decoration-color: #0087ff\">Dense</span>)                   │ (<span style=\"color: #00d7ff; text-decoration-color: #00d7ff\">None</span>, <span style=\"color: #00af00; text-decoration-color: #00af00\">1</span>)              │           <span style=\"color: #00af00; text-decoration-color: #00af00\">129</span> │\n",
       "└─────────────────────────────────┴────────────────────────┴───────────────┘\n",
       "</pre>\n"
      ],
      "text/plain": [
       "┏━━━━━━━━━━━━━━━━━━━━━━━━━━━━━━━━━┳━━━━━━━━━━━━━━━━━━━━━━━━┳━━━━━━━━━━━━━━━┓\n",
       "┃\u001b[1m \u001b[0m\u001b[1mLayer (type)                   \u001b[0m\u001b[1m \u001b[0m┃\u001b[1m \u001b[0m\u001b[1mOutput Shape          \u001b[0m\u001b[1m \u001b[0m┃\u001b[1m \u001b[0m\u001b[1m      Param #\u001b[0m\u001b[1m \u001b[0m┃\n",
       "┡━━━━━━━━━━━━━━━━━━━━━━━━━━━━━━━━━╇━━━━━━━━━━━━━━━━━━━━━━━━╇━━━━━━━━━━━━━━━┩\n",
       "│ embedding (\u001b[38;5;33mEmbedding\u001b[0m)           │ (\u001b[38;5;45mNone\u001b[0m, \u001b[38;5;34m100\u001b[0m, \u001b[38;5;34m128\u001b[0m)       │     \u001b[38;5;34m1,280,000\u001b[0m │\n",
       "├─────────────────────────────────┼────────────────────────┼───────────────┤\n",
       "│ simple_rnn (\u001b[38;5;33mSimpleRNN\u001b[0m)          │ (\u001b[38;5;45mNone\u001b[0m, \u001b[38;5;34m128\u001b[0m)            │        \u001b[38;5;34m32,896\u001b[0m │\n",
       "├─────────────────────────────────┼────────────────────────┼───────────────┤\n",
       "│ dense (\u001b[38;5;33mDense\u001b[0m)                   │ (\u001b[38;5;45mNone\u001b[0m, \u001b[38;5;34m1\u001b[0m)              │           \u001b[38;5;34m129\u001b[0m │\n",
       "└─────────────────────────────────┴────────────────────────┴───────────────┘\n"
      ]
     },
     "metadata": {},
     "output_type": "display_data"
    },
    {
     "data": {
      "text/html": [
       "<pre style=\"white-space:pre;overflow-x:auto;line-height:normal;font-family:Menlo,'DejaVu Sans Mono',consolas,'Courier New',monospace\"><span style=\"font-weight: bold\"> Total params: </span><span style=\"color: #00af00; text-decoration-color: #00af00\">1,313,027</span> (5.01 MB)\n",
       "</pre>\n"
      ],
      "text/plain": [
       "\u001b[1m Total params: \u001b[0m\u001b[38;5;34m1,313,027\u001b[0m (5.01 MB)\n"
      ]
     },
     "metadata": {},
     "output_type": "display_data"
    },
    {
     "data": {
      "text/html": [
       "<pre style=\"white-space:pre;overflow-x:auto;line-height:normal;font-family:Menlo,'DejaVu Sans Mono',consolas,'Courier New',monospace\"><span style=\"font-weight: bold\"> Trainable params: </span><span style=\"color: #00af00; text-decoration-color: #00af00\">1,313,025</span> (5.01 MB)\n",
       "</pre>\n"
      ],
      "text/plain": [
       "\u001b[1m Trainable params: \u001b[0m\u001b[38;5;34m1,313,025\u001b[0m (5.01 MB)\n"
      ]
     },
     "metadata": {},
     "output_type": "display_data"
    },
    {
     "data": {
      "text/html": [
       "<pre style=\"white-space:pre;overflow-x:auto;line-height:normal;font-family:Menlo,'DejaVu Sans Mono',consolas,'Courier New',monospace\"><span style=\"font-weight: bold\"> Non-trainable params: </span><span style=\"color: #00af00; text-decoration-color: #00af00\">0</span> (0.00 B)\n",
       "</pre>\n"
      ],
      "text/plain": [
       "\u001b[1m Non-trainable params: \u001b[0m\u001b[38;5;34m0\u001b[0m (0.00 B)\n"
      ]
     },
     "metadata": {},
     "output_type": "display_data"
    },
    {
     "data": {
      "text/html": [
       "<pre style=\"white-space:pre;overflow-x:auto;line-height:normal;font-family:Menlo,'DejaVu Sans Mono',consolas,'Courier New',monospace\"><span style=\"font-weight: bold\"> Optimizer params: </span><span style=\"color: #00af00; text-decoration-color: #00af00\">2</span> (12.00 B)\n",
       "</pre>\n"
      ],
      "text/plain": [
       "\u001b[1m Optimizer params: \u001b[0m\u001b[38;5;34m2\u001b[0m (12.00 B)\n"
      ]
     },
     "metadata": {},
     "output_type": "display_data"
    }
   ],
   "source": [
    "# Loading the saved model\n",
    "model = load_model('Simple_Rnn_imdb.h5')\n",
    "model.summary()"
   ]
  },
  {
   "cell_type": "code",
   "execution_count": 4,
   "metadata": {
    "id": "CtOVOw8FJI_t"
   },
   "outputs": [
    {
     "data": {
      "text/plain": [
       "[array([[-0.20094277, -0.5812012 , -0.6560233 , ..., -0.24240206,\n",
       "         -0.43156344,  0.72315836],\n",
       "        [-0.16923894, -0.06980374, -0.10061581, ..., -0.12156501,\n",
       "          0.01240186,  0.08979982],\n",
       "        [ 0.0125685 , -0.08123865, -0.02520604, ..., -0.09316847,\n",
       "         -0.0898193 ,  0.02603088],\n",
       "        ...,\n",
       "        [ 0.01694003,  0.09541025,  0.04359162, ..., -0.07945881,\n",
       "          0.11734414,  0.09794637],\n",
       "        [ 0.02474238, -0.05378219, -0.08271394, ..., -0.02360321,\n",
       "         -0.11344436,  0.02684335],\n",
       "        [-0.07274402,  0.0357935 ,  0.08023732, ..., -0.09987773,\n",
       "          0.06214818, -0.02813829]], shape=(10000, 128), dtype=float32),\n",
       " array([[-0.1004243 , -0.11836122,  0.06252539, ..., -0.14357907,\n",
       "          0.03903088,  0.07251318],\n",
       "        [ 0.10658038,  0.09950577,  0.16775818, ...,  0.06710822,\n",
       "          0.1090252 , -0.15970477],\n",
       "        [ 0.00375765, -0.07576314, -0.06079032, ...,  0.11436614,\n",
       "          0.00160441,  0.0041026 ],\n",
       "        ...,\n",
       "        [ 0.10553332, -0.03801449,  0.07698264, ..., -0.05810258,\n",
       "          0.10136428,  0.10202675],\n",
       "        [-0.12767498, -0.17922692,  0.00605093, ..., -0.08078472,\n",
       "         -0.05372668,  0.00081414],\n",
       "        [-0.06685395, -0.03631152, -0.07262506, ..., -0.0574647 ,\n",
       "         -0.1212981 ,  0.06792822]], shape=(128, 128), dtype=float32),\n",
       " array([[-0.02658433,  0.10357881, -0.04148792, ..., -0.11498655,\n",
       "          0.10465834,  0.13889727],\n",
       "        [ 0.05019692,  0.12249736,  0.07412148, ...,  0.09676597,\n",
       "         -0.02850314,  0.05734057],\n",
       "        [ 0.03717001, -0.03758586,  0.19002865, ...,  0.07953107,\n",
       "         -0.08522543, -0.09005256],\n",
       "        ...,\n",
       "        [ 0.08783986, -0.10165484,  0.00461823, ..., -0.0062033 ,\n",
       "         -0.06249145,  0.0227868 ],\n",
       "        [-0.09190351, -0.09941755,  0.2070429 , ..., -0.01948858,\n",
       "         -0.00289219,  0.05090462],\n",
       "        [-0.01708514,  0.00616166,  0.01872173, ..., -0.08173287,\n",
       "          0.05691539,  0.12072785]], shape=(128, 128), dtype=float32),\n",
       " array([-0.0050918 ,  0.00625959,  0.02911682, -0.00083995, -0.04185171,\n",
       "        -0.02506873, -0.03051185, -0.00330234,  0.00723324,  0.0028558 ,\n",
       "        -0.01214298, -0.0308635 , -0.05706518,  0.00088263, -0.01414455,\n",
       "         0.01410389,  0.01946123,  0.05388077, -0.01734908, -0.0243789 ,\n",
       "         0.01230869,  0.0020632 ,  0.04543309, -0.00626413, -0.00115203,\n",
       "        -0.00771212, -0.01469989, -0.01368739,  0.0056097 ,  0.0135198 ,\n",
       "        -0.02606966,  0.03536727,  0.01415151, -0.00286365, -0.02310762,\n",
       "        -0.03282506,  0.00735328, -0.02372501, -0.01402604,  0.01028307,\n",
       "        -0.0115097 , -0.01428985,  0.0124127 , -0.018945  , -0.03451884,\n",
       "        -0.02700921, -0.02967391, -0.01889036,  0.01677644, -0.02732416,\n",
       "        -0.0250747 , -0.00649228, -0.04412689,  0.00620363,  0.01256852,\n",
       "        -0.02337108, -0.00403652, -0.01421726, -0.00624894, -0.02272421,\n",
       "        -0.02283043,  0.01400814, -0.03236436, -0.03110084, -0.02007328,\n",
       "        -0.01962818,  0.02972036, -0.02850044,  0.0077712 , -0.0266129 ,\n",
       "        -0.03302342, -0.01813645,  0.01287301,  0.02584233, -0.02356451,\n",
       "        -0.00278318,  0.00886072, -0.01531308, -0.02966736, -0.01894751,\n",
       "        -0.01514284, -0.02098978,  0.0391844 , -0.01049977,  0.03213583,\n",
       "         0.03425956, -0.02179863, -0.02172962, -0.00342519, -0.03838973,\n",
       "        -0.00636423,  0.00781918,  0.02375532, -0.01593227, -0.02152243,\n",
       "        -0.01080817, -0.0156095 , -0.00057025,  0.01763202, -0.02133028,\n",
       "         0.00345181,  0.00263331,  0.0013757 , -0.00023357, -0.03252066,\n",
       "         0.00662644,  0.02800331,  0.00998463,  0.01414557, -0.00641001,\n",
       "        -0.03396049,  0.00298372,  0.04007709,  0.00018381, -0.00951846,\n",
       "        -0.02908793, -0.0029425 , -0.0181769 , -0.08908859, -0.0013052 ,\n",
       "         0.07448841,  0.02788831, -0.03016831, -0.01823942,  0.03485526,\n",
       "         0.03440215, -0.02322939, -0.02187548], dtype=float32),\n",
       " array([[-0.26559535],\n",
       "        [-0.22488686],\n",
       "        [ 0.16973674],\n",
       "        [-0.31838253],\n",
       "        [ 0.06273869],\n",
       "        [-0.11060651],\n",
       "        [-0.11760052],\n",
       "        [ 0.4182906 ],\n",
       "        [-0.15795791],\n",
       "        [-0.17460862],\n",
       "        [-0.43951133],\n",
       "        [ 0.02226837],\n",
       "        [ 0.14419152],\n",
       "        [-0.46099746],\n",
       "        [ 0.14341293],\n",
       "        [-0.31150514],\n",
       "        [ 0.19139647],\n",
       "        [-0.01668367],\n",
       "        [ 0.287042  ],\n",
       "        [-0.09838619],\n",
       "        [-0.418498  ],\n",
       "        [-0.19641468],\n",
       "        [ 0.36062878],\n",
       "        [ 0.3690924 ],\n",
       "        [-0.43811125],\n",
       "        [ 0.01269305],\n",
       "        [ 0.20772165],\n",
       "        [-0.2423701 ],\n",
       "        [-0.3225522 ],\n",
       "        [-0.17776138],\n",
       "        [ 0.1174712 ],\n",
       "        [-0.03454192],\n",
       "        [-0.3431816 ],\n",
       "        [-0.13680598],\n",
       "        [-0.00725389],\n",
       "        [ 0.21257232],\n",
       "        [-0.4269744 ],\n",
       "        [-0.12896584],\n",
       "        [-0.02073753],\n",
       "        [ 0.3073745 ],\n",
       "        [-0.26145256],\n",
       "        [ 0.10823066],\n",
       "        [ 0.28556457],\n",
       "        [-0.00235484],\n",
       "        [-0.11205199],\n",
       "        [-0.00292001],\n",
       "        [-0.06975137],\n",
       "        [ 0.09393506],\n",
       "        [ 0.22787625],\n",
       "        [ 0.09118175],\n",
       "        [-0.01157722],\n",
       "        [-0.2992959 ],\n",
       "        [-0.17071472],\n",
       "        [-0.4949494 ],\n",
       "        [ 0.1476562 ],\n",
       "        [ 0.03889273],\n",
       "        [-0.30342242],\n",
       "        [-0.11174428],\n",
       "        [ 0.25735942],\n",
       "        [-0.16302036],\n",
       "        [-0.11725555],\n",
       "        [-0.05740201],\n",
       "        [-0.09831918],\n",
       "        [-0.01960531],\n",
       "        [-0.08685145],\n",
       "        [-0.34681597],\n",
       "        [ 0.16762519],\n",
       "        [-0.15195805],\n",
       "        [ 0.11097001],\n",
       "        [ 0.01217742],\n",
       "        [ 0.01160326],\n",
       "        [-0.24063143],\n",
       "        [ 0.12475945],\n",
       "        [ 0.16369465],\n",
       "        [ 0.13603123],\n",
       "        [ 0.1845247 ],\n",
       "        [ 0.24768755],\n",
       "        [-0.30684635],\n",
       "        [ 0.05345973],\n",
       "        [-0.09484837],\n",
       "        [-0.09460457],\n",
       "        [ 0.12901671],\n",
       "        [ 0.22346103],\n",
       "        [ 0.3363899 ],\n",
       "        [-0.38165003],\n",
       "        [-0.31523886],\n",
       "        [-0.18532205],\n",
       "        [ 0.28898218],\n",
       "        [-0.1131449 ],\n",
       "        [-0.09369206],\n",
       "        [ 0.2761622 ],\n",
       "        [ 0.29927695],\n",
       "        [ 0.17913255],\n",
       "        [ 0.22805081],\n",
       "        [-0.169019  ],\n",
       "        [ 0.10301223],\n",
       "        [-0.2460327 ],\n",
       "        [-0.24195641],\n",
       "        [ 0.13909386],\n",
       "        [-0.31490314],\n",
       "        [-0.25433972],\n",
       "        [ 0.00137867],\n",
       "        [-0.22167061],\n",
       "        [-0.16121075],\n",
       "        [-0.05015007],\n",
       "        [ 0.4097668 ],\n",
       "        [ 0.20954087],\n",
       "        [-0.12921464],\n",
       "        [-0.15243281],\n",
       "        [-0.24632268],\n",
       "        [ 0.07084485],\n",
       "        [-0.09791227],\n",
       "        [ 0.19798921],\n",
       "        [-0.13695781],\n",
       "        [-0.13598965],\n",
       "        [-0.04885224],\n",
       "        [ 0.24150047],\n",
       "        [ 0.15459909],\n",
       "        [-0.04075637],\n",
       "        [-0.04239316],\n",
       "        [-0.08681719],\n",
       "        [ 0.11804143],\n",
       "        [-0.06189923],\n",
       "        [-0.01586799],\n",
       "        [-0.24052632],\n",
       "        [ 0.09799881],\n",
       "        [-0.11072024],\n",
       "        [-0.11758357]], dtype=float32),\n",
       " array([-0.13184524], dtype=float32)]"
      ]
     },
     "execution_count": 4,
     "metadata": {},
     "output_type": "execute_result"
    }
   ],
   "source": [
    "model.get_weights()\n",
    "# sometimes instead of saving h5 file we save the wts and summary and combine it to predict via our trained model"
   ]
  },
  {
   "cell_type": "code",
   "execution_count": 5,
   "metadata": {
    "id": "7RORLC_-JVsP"
   },
   "outputs": [],
   "source": [
    "# We require 2 helper function\n",
    "# 1 - decoding review\n",
    "# 2 - function to preprocess user input\n",
    "def decode_review(encoded_review):\n",
    "  return ' '.join([reverse_word_index.get(i - 3, '?') for i in encoded_review])\n",
    "\n",
    "def preprocess_text(text):\n",
    "  words = text.lower().split()\n",
    "  encoded_review = [word_index.get(word, 2) + 3 for word in words]\n",
    "  padded_review = sequence.pad_sequences([encoded_review], maxlen = 500)\n",
    "  return padded_review"
   ]
  },
  {
   "cell_type": "code",
   "execution_count": 6,
   "metadata": {
    "id": "LPPvjbBqKQU-"
   },
   "outputs": [],
   "source": [
    "# Prediction function\n",
    "def predict_sentiment(review):\n",
    "  preprocessed_input = preprocess_text(review)\n",
    "  prediction = model.predict(preprocessed_input)\n",
    "\n",
    "  sentiment = 'Positive' if prediction > 0.5 else 'Negative'\n",
    "  return sentiment, prediction[0][0]\n"
   ]
  },
  {
   "cell_type": "code",
   "execution_count": 7,
   "metadata": {
    "id": "yaUzIZZzK-Be"
   },
   "outputs": [
    {
     "name": "stdout",
     "output_type": "stream",
     "text": [
      "\u001b[1m1/1\u001b[0m \u001b[32m━━━━━━━━━━━━━━━━━━━━\u001b[0m\u001b[37m\u001b[0m \u001b[1m0s\u001b[0m 156ms/step\n",
      "Review: This movie was fantastic! The acting was great and plot was thrilling.\n",
      "Sentiment: Positive\n",
      "Score: 0.8929433822631836\n"
     ]
    }
   ],
   "source": [
    "example_review = \"This movie was fantastic! The acting was great and plot was thrilling.\"\n",
    "\n",
    "sentiment, score = predict_sentiment(example_review)\n",
    "\n",
    "print(f\"Review: {example_review}\")\n",
    "print(f\"Sentiment: {sentiment}\")\n",
    "print(f\"Score: {score}\")"
   ]
  }
 ],
 "metadata": {
  "colab": {
   "authorship_tag": "ABX9TyPNavajkBueCgEnEJ/0XW1K",
   "provenance": []
  },
  "kernelspec": {
   "display_name": "Python 3",
   "name": "python3"
  },
  "language_info": {
   "codemirror_mode": {
    "name": "ipython",
    "version": 3
   },
   "file_extension": ".py",
   "mimetype": "text/x-python",
   "name": "python",
   "nbconvert_exporter": "python",
   "pygments_lexer": "ipython3",
   "version": "3.11.13"
  }
 },
 "nbformat": 4,
 "nbformat_minor": 0
}
