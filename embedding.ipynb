{
 "cells": [
  {
   "cell_type": "code",
   "execution_count": 1,
   "metadata": {
    "executionInfo": {
     "elapsed": 6778,
     "status": "ok",
     "timestamp": 1758028900033,
     "user": {
      "displayName": "Raghav Aggarwal",
      "userId": "02262660397527192276"
     },
     "user_tz": -330
    },
    "id": "9qpQKABXiDPL"
   },
   "outputs": [],
   "source": [
    "# first lets look for the one hot representation for the specific word\n",
    "from tensorflow.keras.preprocessing.text import one_hot"
   ]
  },
  {
   "cell_type": "code",
   "execution_count": 2,
   "metadata": {
    "executionInfo": {
     "elapsed": 8,
     "status": "ok",
     "timestamp": 1758028900036,
     "user": {
      "displayName": "Raghav Aggarwal",
      "userId": "02262660397527192276"
     },
     "user_tz": -330
    },
    "id": "aq0Ni2YbiYec"
   },
   "outputs": [],
   "source": [
    "# trying this one_hot on below sentences\n",
    "sentences = [\n",
    "             \"the glass of milk\",\n",
    "             \"the glass of juice\",\n",
    "             \"the cup of tea\",\n",
    "             \"I am good boy\",\n",
    "             \"I am good developer\",\n",
    "             \"understand the meaning of words\",\n",
    "             \"your videos are good\",\n",
    "             ]"
   ]
  },
  {
   "cell_type": "code",
   "execution_count": 3,
   "metadata": {
    "colab": {
     "base_uri": "https://localhost:8080/"
    },
    "executionInfo": {
     "elapsed": 20,
     "status": "ok",
     "timestamp": 1758028900058,
     "user": {
      "displayName": "Raghav Aggarwal",
      "userId": "02262660397527192276"
     },
     "user_tz": -330
    },
    "id": "ZiheJkf4iyCn",
    "outputId": "5b4fd318-a484-4a56-ff77-1353e5fcf484"
   },
   "outputs": [
    {
     "data": {
      "text/plain": [
       "['the glass of milk',\n",
       " 'the glass of juice',\n",
       " 'the cup of tea',\n",
       " 'I am good boy',\n",
       " 'I am good developer',\n",
       " 'understand the meaning of words',\n",
       " 'your videos are good']"
      ]
     },
     "execution_count": 3,
     "metadata": {},
     "output_type": "execute_result"
    }
   ],
   "source": [
    "sentences"
   ]
  },
  {
   "cell_type": "code",
   "execution_count": 4,
   "metadata": {
    "executionInfo": {
     "elapsed": 16,
     "status": "ok",
     "timestamp": 1758028900076,
     "user": {
      "displayName": "Raghav Aggarwal",
      "userId": "02262660397527192276"
     },
     "user_tz": -330
    },
    "id": "tK0pUiPpi4V4"
   },
   "outputs": [],
   "source": [
    "# Define the vocabulary size first!\n",
    "voc_size = 10000"
   ]
  },
  {
   "cell_type": "code",
   "execution_count": 5,
   "metadata": {
    "executionInfo": {
     "elapsed": 5,
     "status": "ok",
     "timestamp": 1758028900084,
     "user": {
      "displayName": "Raghav Aggarwal",
      "userId": "02262660397527192276"
     },
     "user_tz": -330
    },
    "id": "1dGj14Uji9GS"
   },
   "outputs": [],
   "source": [
    "# One hot representation for every word\n",
    "one_hot_repr = [one_hot(words, voc_size) for words in sentences]\n"
   ]
  },
  {
   "cell_type": "code",
   "execution_count": 6,
   "metadata": {
    "colab": {
     "base_uri": "https://localhost:8080/"
    },
    "executionInfo": {
     "elapsed": 10,
     "status": "ok",
     "timestamp": 1758028900096,
     "user": {
      "displayName": "Raghav Aggarwal",
      "userId": "02262660397527192276"
     },
     "user_tz": -330
    },
    "id": "50wws_QBjU6q",
    "outputId": "81691c8e-5732-49ae-f879-749847c776bd"
   },
   "outputs": [
    {
     "data": {
      "text/plain": [
       "[[5446, 8133, 5391, 8076],\n",
       " [5446, 8133, 5391, 1545],\n",
       " [5446, 1662, 5391, 9186],\n",
       " [7970, 7092, 4671, 9137],\n",
       " [7970, 7092, 4671, 4439],\n",
       " [8505, 5446, 3394, 5391, 1745],\n",
       " [2220, 4733, 3325, 4671]]"
      ]
     },
     "execution_count": 6,
     "metadata": {},
     "output_type": "execute_result"
    }
   ],
   "source": [
    "one_hot_repr"
   ]
  },
  {
   "cell_type": "code",
   "execution_count": 7,
   "metadata": {
    "executionInfo": {
     "elapsed": 21,
     "status": "ok",
     "timestamp": 1758028900118,
     "user": {
      "displayName": "Raghav Aggarwal",
      "userId": "02262660397527192276"
     },
     "user_tz": -330
    },
    "id": "LRGQWfKejWFT"
   },
   "outputs": [],
   "source": [
    "# so the o/p means that for 1st list - the words are at posn as follows\n",
    "# at 9783 = the\n",
    "# at 5873 = glass\n",
    "# at 7728 = of\n",
    "# at 5298 = milk\n",
    "# and same for the others also!"
   ]
  },
  {
   "cell_type": "code",
   "execution_count": 8,
   "metadata": {
    "executionInfo": {
     "elapsed": 8,
     "status": "ok",
     "timestamp": 1758028900121,
     "user": {
      "displayName": "Raghav Aggarwal",
      "userId": "02262660397527192276"
     },
     "user_tz": -330
    },
    "id": "F4m5H1RPjzEM"
   },
   "outputs": [],
   "source": [
    "# So if we use this in our embedding layer then instead of 1s and 0s we use this form that represents the index of the words\n",
    "# One more point to note is in 1st 2 sentences we hve glass of milk and glass of juice\n",
    "# So both sentences have the same word hence it is written same verctors for the words which are same in both\n",
    "# So now we take all the words sentence by sentence and pass it to word embedding layer and will create word embedding representation\n",
    "# So along with the dense layer we will have the embedding layer also"
   ]
  },
  {
   "cell_type": "code",
   "execution_count": 9,
   "metadata": {
    "executionInfo": {
     "elapsed": 14,
     "status": "ok",
     "timestamp": 1758030412667,
     "user": {
      "displayName": "Raghav Aggarwal",
      "userId": "02262660397527192276"
     },
     "user_tz": -330
    },
    "id": "SndMSn_Yl5-N"
   },
   "outputs": [],
   "source": [
    "# word embedding representation\n",
    "from tensorflow.keras.layers import Embedding\n",
    "from tensorflow.keras.utils import pad_sequences\n",
    "from tensorflow.keras.models import Sequential"
   ]
  },
  {
   "cell_type": "code",
   "execution_count": 10,
   "metadata": {
    "colab": {
     "base_uri": "https://localhost:8080/"
    },
    "executionInfo": {
     "elapsed": 21,
     "status": "ok",
     "timestamp": 1758031293357,
     "user": {
      "displayName": "Raghav Aggarwal",
      "userId": "02262660397527192276"
     },
     "user_tz": -330
    },
    "id": "knSwEEa9r7_Z",
    "outputId": "efcceddb-dff5-4440-baeb-29f9392797c1"
   },
   "outputs": [
    {
     "name": "stdout",
     "output_type": "stream",
     "text": [
      "[[   0    0    0    0 5446 8133 5391 8076]\n",
      " [   0    0    0    0 5446 8133 5391 1545]\n",
      " [   0    0    0    0 5446 1662 5391 9186]\n",
      " [   0    0    0    0 7970 7092 4671 9137]\n",
      " [   0    0    0    0 7970 7092 4671 4439]\n",
      " [   0    0    0 8505 5446 3394 5391 1745]\n",
      " [   0    0    0    0 2220 4733 3325 4671]]\n"
     ]
    }
   ],
   "source": [
    "# Now we see sentences length are varying, so first thing is to make these sentences of equal size, because we cant train in rnn if not handled\n",
    "# because every word goes in rnn in fixed timestamp\n",
    "sent_length = 8\n",
    "embeded_docs = pad_sequences(one_hot_repr, padding='pre', maxlen=sent_length) #adds zeros before or after in order to make sentences of same length\n",
    "print(embeded_docs)"
   ]
  },
  {
   "cell_type": "code",
   "execution_count": 11,
   "metadata": {
    "colab": {
     "base_uri": "https://localhost:8080/"
    },
    "executionInfo": {
     "elapsed": 64,
     "status": "ok",
     "timestamp": 1758031497266,
     "user": {
      "displayName": "Raghav Aggarwal",
      "userId": "02262660397527192276"
     },
     "user_tz": -330
    },
    "id": "yLGd0sVt1KqP",
    "outputId": "3187a191-c8e0-4237-a864-27980294f451"
   },
   "outputs": [
    {
     "name": "stderr",
     "output_type": "stream",
     "text": [
      "d:\\Github\\Udemy ML\\RNN Project\\Implementation\\venv\\Lib\\site-packages\\keras\\src\\layers\\core\\embedding.py:100: UserWarning: Do not pass an `input_shape`/`input_dim` argument to a layer. When using Sequential models, prefer using an `Input(shape)` object as the first layer in the model instead.\n",
      "  super().__init__(**kwargs)\n"
     ]
    }
   ],
   "source": [
    "# feature representation\n",
    "dim = 10 # we want 10 features wrt dimensions in word embedding\n",
    "model = Sequential()\n",
    "model.add(Embedding(voc_size, dim, input_shape=(sent_length,)))\n",
    "model.compile('adam', 'mse')"
   ]
  },
  {
   "cell_type": "code",
   "execution_count": 12,
   "metadata": {
    "colab": {
     "base_uri": "https://localhost:8080/",
     "height": 161
    },
    "executionInfo": {
     "elapsed": 45,
     "status": "ok",
     "timestamp": 1758031513449,
     "user": {
      "displayName": "Raghav Aggarwal",
      "userId": "02262660397527192276"
     },
     "user_tz": -330
    },
    "id": "n7Bzd7Nn18cO",
    "outputId": "2b3ea269-93ea-4e6f-9233-293e12f0b752"
   },
   "outputs": [
    {
     "data": {
      "text/html": [
       "<pre style=\"white-space:pre;overflow-x:auto;line-height:normal;font-family:Menlo,'DejaVu Sans Mono',consolas,'Courier New',monospace\"><span style=\"font-weight: bold\">Model: \"sequential\"</span>\n",
       "</pre>\n"
      ],
      "text/plain": [
       "\u001b[1mModel: \"sequential\"\u001b[0m\n"
      ]
     },
     "metadata": {},
     "output_type": "display_data"
    },
    {
     "data": {
      "text/html": [
       "<pre style=\"white-space:pre;overflow-x:auto;line-height:normal;font-family:Menlo,'DejaVu Sans Mono',consolas,'Courier New',monospace\">┏━━━━━━━━━━━━━━━━━━━━━━━━━━━━━━━━━┳━━━━━━━━━━━━━━━━━━━━━━━━┳━━━━━━━━━━━━━━━┓\n",
       "┃<span style=\"font-weight: bold\"> Layer (type)                    </span>┃<span style=\"font-weight: bold\"> Output Shape           </span>┃<span style=\"font-weight: bold\">       Param # </span>┃\n",
       "┡━━━━━━━━━━━━━━━━━━━━━━━━━━━━━━━━━╇━━━━━━━━━━━━━━━━━━━━━━━━╇━━━━━━━━━━━━━━━┩\n",
       "│ embedding (<span style=\"color: #0087ff; text-decoration-color: #0087ff\">Embedding</span>)           │ (<span style=\"color: #00d7ff; text-decoration-color: #00d7ff\">None</span>, <span style=\"color: #00af00; text-decoration-color: #00af00\">8</span>, <span style=\"color: #00af00; text-decoration-color: #00af00\">10</span>)          │       <span style=\"color: #00af00; text-decoration-color: #00af00\">100,000</span> │\n",
       "└─────────────────────────────────┴────────────────────────┴───────────────┘\n",
       "</pre>\n"
      ],
      "text/plain": [
       "┏━━━━━━━━━━━━━━━━━━━━━━━━━━━━━━━━━┳━━━━━━━━━━━━━━━━━━━━━━━━┳━━━━━━━━━━━━━━━┓\n",
       "┃\u001b[1m \u001b[0m\u001b[1mLayer (type)                   \u001b[0m\u001b[1m \u001b[0m┃\u001b[1m \u001b[0m\u001b[1mOutput Shape          \u001b[0m\u001b[1m \u001b[0m┃\u001b[1m \u001b[0m\u001b[1m      Param #\u001b[0m\u001b[1m \u001b[0m┃\n",
       "┡━━━━━━━━━━━━━━━━━━━━━━━━━━━━━━━━━╇━━━━━━━━━━━━━━━━━━━━━━━━╇━━━━━━━━━━━━━━━┩\n",
       "│ embedding (\u001b[38;5;33mEmbedding\u001b[0m)           │ (\u001b[38;5;45mNone\u001b[0m, \u001b[38;5;34m8\u001b[0m, \u001b[38;5;34m10\u001b[0m)          │       \u001b[38;5;34m100,000\u001b[0m │\n",
       "└─────────────────────────────────┴────────────────────────┴───────────────┘\n"
      ]
     },
     "metadata": {},
     "output_type": "display_data"
    },
    {
     "data": {
      "text/html": [
       "<pre style=\"white-space:pre;overflow-x:auto;line-height:normal;font-family:Menlo,'DejaVu Sans Mono',consolas,'Courier New',monospace\"><span style=\"font-weight: bold\"> Total params: </span><span style=\"color: #00af00; text-decoration-color: #00af00\">100,000</span> (390.62 KB)\n",
       "</pre>\n"
      ],
      "text/plain": [
       "\u001b[1m Total params: \u001b[0m\u001b[38;5;34m100,000\u001b[0m (390.62 KB)\n"
      ]
     },
     "metadata": {},
     "output_type": "display_data"
    },
    {
     "data": {
      "text/html": [
       "<pre style=\"white-space:pre;overflow-x:auto;line-height:normal;font-family:Menlo,'DejaVu Sans Mono',consolas,'Courier New',monospace\"><span style=\"font-weight: bold\"> Trainable params: </span><span style=\"color: #00af00; text-decoration-color: #00af00\">100,000</span> (390.62 KB)\n",
       "</pre>\n"
      ],
      "text/plain": [
       "\u001b[1m Trainable params: \u001b[0m\u001b[38;5;34m100,000\u001b[0m (390.62 KB)\n"
      ]
     },
     "metadata": {},
     "output_type": "display_data"
    },
    {
     "data": {
      "text/html": [
       "<pre style=\"white-space:pre;overflow-x:auto;line-height:normal;font-family:Menlo,'DejaVu Sans Mono',consolas,'Courier New',monospace\"><span style=\"font-weight: bold\"> Non-trainable params: </span><span style=\"color: #00af00; text-decoration-color: #00af00\">0</span> (0.00 B)\n",
       "</pre>\n"
      ],
      "text/plain": [
       "\u001b[1m Non-trainable params: \u001b[0m\u001b[38;5;34m0\u001b[0m (0.00 B)\n"
      ]
     },
     "metadata": {},
     "output_type": "display_data"
    }
   ],
   "source": [
    "model.summary()"
   ]
  },
  {
   "cell_type": "code",
   "execution_count": 13,
   "metadata": {
    "colab": {
     "base_uri": "https://localhost:8080/"
    },
    "executionInfo": {
     "elapsed": 477,
     "status": "ok",
     "timestamp": 1758031558527,
     "user": {
      "displayName": "Raghav Aggarwal",
      "userId": "02262660397527192276"
     },
     "user_tz": -330
    },
    "id": "rGYjIzIO2AZr",
    "outputId": "c4ef487e-42ad-41a9-e655-21149205fd2b"
   },
   "outputs": [
    {
     "name": "stdout",
     "output_type": "stream",
     "text": [
      "\u001b[1m1/1\u001b[0m \u001b[32m━━━━━━━━━━━━━━━━━━━━\u001b[0m\u001b[37m\u001b[0m \u001b[1m1s\u001b[0m 506ms/step\n"
     ]
    },
    {
     "data": {
      "text/plain": [
       "array([[[-0.04988834,  0.03828622,  0.0026867 ,  0.02479657,\n",
       "          0.02648352,  0.03695536,  0.01237201, -0.04516041,\n",
       "          0.02589697,  0.04723257],\n",
       "        [-0.04988834,  0.03828622,  0.0026867 ,  0.02479657,\n",
       "          0.02648352,  0.03695536,  0.01237201, -0.04516041,\n",
       "          0.02589697,  0.04723257],\n",
       "        [-0.04988834,  0.03828622,  0.0026867 ,  0.02479657,\n",
       "          0.02648352,  0.03695536,  0.01237201, -0.04516041,\n",
       "          0.02589697,  0.04723257],\n",
       "        [-0.04988834,  0.03828622,  0.0026867 ,  0.02479657,\n",
       "          0.02648352,  0.03695536,  0.01237201, -0.04516041,\n",
       "          0.02589697,  0.04723257],\n",
       "        [ 0.00164769, -0.01747533, -0.02779658,  0.01387708,\n",
       "          0.00039252, -0.03910379,  0.02104744,  0.00829311,\n",
       "          0.03576732, -0.00435557],\n",
       "        [-0.03795994,  0.00831016,  0.03209284,  0.04497489,\n",
       "         -0.02341609,  0.01411721,  0.03143645,  0.02434466,\n",
       "         -0.01466987,  0.01090251],\n",
       "        [-0.01484128, -0.02885677, -0.04790437,  0.04689525,\n",
       "          0.02707179, -0.02404912, -0.04121146,  0.03133737,\n",
       "          0.01289958, -0.00642648],\n",
       "        [-0.02530681,  0.04126057, -0.00013317, -0.0110489 ,\n",
       "          0.03795464,  0.04743183,  0.00605305, -0.045433  ,\n",
       "          0.03212086, -0.02136685]],\n",
       "\n",
       "       [[-0.04988834,  0.03828622,  0.0026867 ,  0.02479657,\n",
       "          0.02648352,  0.03695536,  0.01237201, -0.04516041,\n",
       "          0.02589697,  0.04723257],\n",
       "        [-0.04988834,  0.03828622,  0.0026867 ,  0.02479657,\n",
       "          0.02648352,  0.03695536,  0.01237201, -0.04516041,\n",
       "          0.02589697,  0.04723257],\n",
       "        [-0.04988834,  0.03828622,  0.0026867 ,  0.02479657,\n",
       "          0.02648352,  0.03695536,  0.01237201, -0.04516041,\n",
       "          0.02589697,  0.04723257],\n",
       "        [-0.04988834,  0.03828622,  0.0026867 ,  0.02479657,\n",
       "          0.02648352,  0.03695536,  0.01237201, -0.04516041,\n",
       "          0.02589697,  0.04723257],\n",
       "        [ 0.00164769, -0.01747533, -0.02779658,  0.01387708,\n",
       "          0.00039252, -0.03910379,  0.02104744,  0.00829311,\n",
       "          0.03576732, -0.00435557],\n",
       "        [-0.03795994,  0.00831016,  0.03209284,  0.04497489,\n",
       "         -0.02341609,  0.01411721,  0.03143645,  0.02434466,\n",
       "         -0.01466987,  0.01090251],\n",
       "        [-0.01484128, -0.02885677, -0.04790437,  0.04689525,\n",
       "          0.02707179, -0.02404912, -0.04121146,  0.03133737,\n",
       "          0.01289958, -0.00642648],\n",
       "        [-0.02782155, -0.00629381,  0.0276694 , -0.02935562,\n",
       "          0.04193673, -0.00180199, -0.04046723, -0.00065917,\n",
       "         -0.02580798,  0.01467748]],\n",
       "\n",
       "       [[-0.04988834,  0.03828622,  0.0026867 ,  0.02479657,\n",
       "          0.02648352,  0.03695536,  0.01237201, -0.04516041,\n",
       "          0.02589697,  0.04723257],\n",
       "        [-0.04988834,  0.03828622,  0.0026867 ,  0.02479657,\n",
       "          0.02648352,  0.03695536,  0.01237201, -0.04516041,\n",
       "          0.02589697,  0.04723257],\n",
       "        [-0.04988834,  0.03828622,  0.0026867 ,  0.02479657,\n",
       "          0.02648352,  0.03695536,  0.01237201, -0.04516041,\n",
       "          0.02589697,  0.04723257],\n",
       "        [-0.04988834,  0.03828622,  0.0026867 ,  0.02479657,\n",
       "          0.02648352,  0.03695536,  0.01237201, -0.04516041,\n",
       "          0.02589697,  0.04723257],\n",
       "        [ 0.00164769, -0.01747533, -0.02779658,  0.01387708,\n",
       "          0.00039252, -0.03910379,  0.02104744,  0.00829311,\n",
       "          0.03576732, -0.00435557],\n",
       "        [ 0.02917912,  0.03061755,  0.01162388,  0.01202669,\n",
       "          0.00047418,  0.03384123,  0.02211723,  0.03934607,\n",
       "         -0.04020122,  0.01391355],\n",
       "        [-0.01484128, -0.02885677, -0.04790437,  0.04689525,\n",
       "          0.02707179, -0.02404912, -0.04121146,  0.03133737,\n",
       "          0.01289958, -0.00642648],\n",
       "        [ 0.01101377,  0.00205197,  0.04829201, -0.04224441,\n",
       "         -0.00015803,  0.00969837,  0.03950263,  0.02157087,\n",
       "          0.03340768,  0.01446788]],\n",
       "\n",
       "       [[-0.04988834,  0.03828622,  0.0026867 ,  0.02479657,\n",
       "          0.02648352,  0.03695536,  0.01237201, -0.04516041,\n",
       "          0.02589697,  0.04723257],\n",
       "        [-0.04988834,  0.03828622,  0.0026867 ,  0.02479657,\n",
       "          0.02648352,  0.03695536,  0.01237201, -0.04516041,\n",
       "          0.02589697,  0.04723257],\n",
       "        [-0.04988834,  0.03828622,  0.0026867 ,  0.02479657,\n",
       "          0.02648352,  0.03695536,  0.01237201, -0.04516041,\n",
       "          0.02589697,  0.04723257],\n",
       "        [-0.04988834,  0.03828622,  0.0026867 ,  0.02479657,\n",
       "          0.02648352,  0.03695536,  0.01237201, -0.04516041,\n",
       "          0.02589697,  0.04723257],\n",
       "        [ 0.01536515, -0.0174919 ,  0.04513221, -0.02260612,\n",
       "         -0.02818773, -0.01379652,  0.04759875, -0.03372226,\n",
       "          0.04882758,  0.02123418],\n",
       "        [-0.04557486,  0.03947778,  0.0130241 , -0.00850356,\n",
       "          0.01091287,  0.04780649,  0.01344981, -0.03377489,\n",
       "         -0.00731884,  0.01197659],\n",
       "        [ 0.03080292,  0.02324301, -0.00528767, -0.0251915 ,\n",
       "         -0.02169775, -0.00089848,  0.01968963, -0.01161388,\n",
       "          0.02367517, -0.0143552 ],\n",
       "        [ 0.00248015, -0.03675572, -0.02045068,  0.03207431,\n",
       "         -0.01356642, -0.02118023, -0.01396044,  0.01296378,\n",
       "          0.03797697,  0.0456943 ]],\n",
       "\n",
       "       [[-0.04988834,  0.03828622,  0.0026867 ,  0.02479657,\n",
       "          0.02648352,  0.03695536,  0.01237201, -0.04516041,\n",
       "          0.02589697,  0.04723257],\n",
       "        [-0.04988834,  0.03828622,  0.0026867 ,  0.02479657,\n",
       "          0.02648352,  0.03695536,  0.01237201, -0.04516041,\n",
       "          0.02589697,  0.04723257],\n",
       "        [-0.04988834,  0.03828622,  0.0026867 ,  0.02479657,\n",
       "          0.02648352,  0.03695536,  0.01237201, -0.04516041,\n",
       "          0.02589697,  0.04723257],\n",
       "        [-0.04988834,  0.03828622,  0.0026867 ,  0.02479657,\n",
       "          0.02648352,  0.03695536,  0.01237201, -0.04516041,\n",
       "          0.02589697,  0.04723257],\n",
       "        [ 0.01536515, -0.0174919 ,  0.04513221, -0.02260612,\n",
       "         -0.02818773, -0.01379652,  0.04759875, -0.03372226,\n",
       "          0.04882758,  0.02123418],\n",
       "        [-0.04557486,  0.03947778,  0.0130241 , -0.00850356,\n",
       "          0.01091287,  0.04780649,  0.01344981, -0.03377489,\n",
       "         -0.00731884,  0.01197659],\n",
       "        [ 0.03080292,  0.02324301, -0.00528767, -0.0251915 ,\n",
       "         -0.02169775, -0.00089848,  0.01968963, -0.01161388,\n",
       "          0.02367517, -0.0143552 ],\n",
       "        [ 0.03783897, -0.03909663, -0.0173615 , -0.0073031 ,\n",
       "         -0.00966924, -0.01703902, -0.0304679 ,  0.03434099,\n",
       "          0.03023854,  0.02429327]],\n",
       "\n",
       "       [[-0.04988834,  0.03828622,  0.0026867 ,  0.02479657,\n",
       "          0.02648352,  0.03695536,  0.01237201, -0.04516041,\n",
       "          0.02589697,  0.04723257],\n",
       "        [-0.04988834,  0.03828622,  0.0026867 ,  0.02479657,\n",
       "          0.02648352,  0.03695536,  0.01237201, -0.04516041,\n",
       "          0.02589697,  0.04723257],\n",
       "        [-0.04988834,  0.03828622,  0.0026867 ,  0.02479657,\n",
       "          0.02648352,  0.03695536,  0.01237201, -0.04516041,\n",
       "          0.02589697,  0.04723257],\n",
       "        [ 0.04348246,  0.02322859,  0.00976149,  0.01390939,\n",
       "          0.00450118, -0.02552413, -0.01797641,  0.01144191,\n",
       "         -0.01076297, -0.03259854],\n",
       "        [ 0.00164769, -0.01747533, -0.02779658,  0.01387708,\n",
       "          0.00039252, -0.03910379,  0.02104744,  0.00829311,\n",
       "          0.03576732, -0.00435557],\n",
       "        [-0.04786043,  0.00754151, -0.04698714, -0.00704151,\n",
       "          0.00362714, -0.00642184,  0.01448878,  0.02991811,\n",
       "         -0.02242168, -0.03016279],\n",
       "        [-0.01484128, -0.02885677, -0.04790437,  0.04689525,\n",
       "          0.02707179, -0.02404912, -0.04121146,  0.03133737,\n",
       "          0.01289958, -0.00642648],\n",
       "        [ 0.0386387 ,  0.01939292, -0.01230578, -0.02584377,\n",
       "         -0.00943647,  0.03579048,  0.0489278 , -0.02875336,\n",
       "          0.04880083,  0.01356265]],\n",
       "\n",
       "       [[-0.04988834,  0.03828622,  0.0026867 ,  0.02479657,\n",
       "          0.02648352,  0.03695536,  0.01237201, -0.04516041,\n",
       "          0.02589697,  0.04723257],\n",
       "        [-0.04988834,  0.03828622,  0.0026867 ,  0.02479657,\n",
       "          0.02648352,  0.03695536,  0.01237201, -0.04516041,\n",
       "          0.02589697,  0.04723257],\n",
       "        [-0.04988834,  0.03828622,  0.0026867 ,  0.02479657,\n",
       "          0.02648352,  0.03695536,  0.01237201, -0.04516041,\n",
       "          0.02589697,  0.04723257],\n",
       "        [-0.04988834,  0.03828622,  0.0026867 ,  0.02479657,\n",
       "          0.02648352,  0.03695536,  0.01237201, -0.04516041,\n",
       "          0.02589697,  0.04723257],\n",
       "        [ 0.03695453,  0.04923829, -0.04151322,  0.00767631,\n",
       "          0.02095245,  0.00685686,  0.01884084,  0.01296157,\n",
       "          0.00823256, -0.04806924],\n",
       "        [-0.03977611, -0.03731428, -0.03881172,  0.00691632,\n",
       "          0.03602734, -0.0357712 ,  0.03430772,  0.0418785 ,\n",
       "          0.04513356, -0.04627822],\n",
       "        [-0.00339404,  0.00156523,  0.00560664,  0.0024215 ,\n",
       "         -0.0261994 ,  0.01634732, -0.01952015, -0.00521652,\n",
       "         -0.00624796, -0.03056036],\n",
       "        [ 0.03080292,  0.02324301, -0.00528767, -0.0251915 ,\n",
       "         -0.02169775, -0.00089848,  0.01968963, -0.01161388,\n",
       "          0.02367517, -0.0143552 ]]], dtype=float32)"
      ]
     },
     "execution_count": 13,
     "metadata": {},
     "output_type": "execute_result"
    }
   ],
   "source": [
    "model.predict(embeded_docs)"
   ]
  },
  {
   "cell_type": "code",
   "execution_count": null,
   "metadata": {
    "id": "JbEBYBL22LTc"
   },
   "outputs": [],
   "source": []
  }
 ],
 "metadata": {
  "colab": {
   "authorship_tag": "ABX9TyPiT5MqvV/x9pL5boYsGHVR",
   "provenance": []
  },
  "kernelspec": {
   "display_name": "Python 3",
   "name": "python3"
  },
  "language_info": {
   "codemirror_mode": {
    "name": "ipython",
    "version": 3
   },
   "file_extension": ".py",
   "mimetype": "text/x-python",
   "name": "python",
   "nbconvert_exporter": "python",
   "pygments_lexer": "ipython3",
   "version": "3.11.13"
  }
 },
 "nbformat": 4,
 "nbformat_minor": 0
}
